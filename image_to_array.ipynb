{
 "cells": [
  {
   "cell_type": "code",
   "execution_count": 1,
   "id": "ee6549af",
   "metadata": {},
   "outputs": [],
   "source": [
    "import time\n",
    "\n",
    "import numpy as np\n",
    "import pandas as pd\n",
    "from PIL import Image"
   ]
  },
  {
   "cell_type": "code",
   "execution_count": 2,
   "id": "75da99b2",
   "metadata": {},
   "outputs": [],
   "source": [
    "def change_image_name(df, column):\n",
    "    \"\"\"\n",
    "    Appends the suffix '.jpeg' for all image names in the DataFrame\n",
    "    INPUT\n",
    "        df: Pandas DataFrame, including columns to be altered.\n",
    "        column: The column that will be changed. Takes a string input.\n",
    "    OUTPUT\n",
    "        Pandas DataFrame, with a single column changed to include the\n",
    "        aforementioned suffix.\n",
    "    \"\"\"\n",
    "    return [i + '.jpeg' for i in df[column]]"
   ]
  },
  {
   "cell_type": "code",
   "execution_count": 3,
   "id": "9d8ea1b4",
   "metadata": {},
   "outputs": [],
   "source": [
    "def convert_images_to_arrays_train(file_path, df):\n",
    "    \"\"\"\n",
    "    Converts each image to an array, and appends each array to a new NumPy\n",
    "    array, based on the image column equaling the image file name.\n",
    "    INPUT\n",
    "        file_path: Specified file path for resized test and train images.\n",
    "        df: Pandas DataFrame being used to assist file imports.\n",
    "    OUTPUT\n",
    "        NumPy array of image arrays.\n",
    "    \"\"\"\n",
    "\n",
    "    lst_imgs = [l for l in df['train_image_name']]\n",
    "\n",
    "    return np.array([np.array(Image.open(file_path + img)) for img in lst_imgs])"
   ]
  },
  {
   "cell_type": "code",
   "execution_count": 4,
   "id": "f087a6d4",
   "metadata": {},
   "outputs": [],
   "source": [
    "def save_to_array(arr_name, arr_object):\n",
    "    \"\"\"\n",
    "    Saves data object as a NumPy file. Used for saving train and test arrays.\n",
    "    INPUT\n",
    "        arr_name: The name of the file you want to save.\n",
    "            This input takes a directory string.\n",
    "        arr_object: NumPy array of arrays. This object is saved as a NumPy file.\n",
    "    OUTPUT\n",
    "        NumPy array of image arrays\n",
    "    \"\"\"\n",
    "    return np.save(arr_name, arr_object)"
   ]
  },
  {
   "cell_type": "code",
   "execution_count": 5,
   "id": "4b431bf4",
   "metadata": {},
   "outputs": [
    {
     "name": "stdout",
     "output_type": "stream",
     "text": [
      "Writing Train Array\n",
      "(30050, 256, 256, 3)\n",
      "Saving Train Array\n",
      "--- 23.170963525772095 seconds ---\n"
     ]
    }
   ],
   "source": [
    "start_time = time.time()\n",
    "\n",
    "labels = pd.read_csv(\"./labels/trainLabels_master_256_v2.csv\")\n",
    "\n",
    "print(\"Writing Train Array\")\n",
    "X_train = convert_images_to_arrays_train('./data/train-resized-256/', labels)\n",
    "\n",
    "print(X_train.shape)\n",
    "\n",
    "print(\"Saving Train Array\")\n",
    "save_to_array('./data/X_train.npy', X_train)\n",
    "\n",
    "print(\"--- %s seconds ---\" % (time.time() - start_time))"
   ]
  },
  {
   "cell_type": "code",
   "execution_count": null,
   "id": "b9073575",
   "metadata": {},
   "outputs": [],
   "source": []
  }
 ],
 "metadata": {
  "kernelspec": {
   "display_name": "nuclear",
   "language": "python",
   "name": "nuclear"
  },
  "language_info": {
   "codemirror_mode": {
    "name": "ipython",
    "version": 3
   },
   "file_extension": ".py",
   "mimetype": "text/x-python",
   "name": "python",
   "nbconvert_exporter": "python",
   "pygments_lexer": "ipython3",
   "version": "3.8.10"
  }
 },
 "nbformat": 4,
 "nbformat_minor": 5
}
